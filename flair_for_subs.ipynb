{
 "cells": [
  {
   "cell_type": "code",
   "execution_count": null,
   "metadata": {},
   "outputs": [],
   "source": [
    "! python3.7 -m pip install git+https://github.com/zalandoresearch/flair.git"
   ]
  },
  {
   "cell_type": "code",
   "execution_count": null,
   "metadata": {},
   "outputs": [],
   "source": [
    "import pandas as pd\n",
    "import numpy as np\n",
    "import os"
   ]
  },
  {
   "cell_type": "code",
   "execution_count": null,
   "metadata": {},
   "outputs": [],
   "source": [
    "np.random.seed(42)"
   ]
  },
  {
   "cell_type": "code",
   "execution_count": null,
   "metadata": {},
   "outputs": [],
   "source": [
    "source = pd.read_csv(\"refined_for_bert.csv\", sep=\";\")"
   ]
  },
  {
   "cell_type": "code",
   "execution_count": null,
   "metadata": {},
   "outputs": [],
   "source": [
    "source_r = source[[\"subs\", \"text\"]]"
   ]
  },
  {
   "cell_type": "code",
   "execution_count": null,
   "metadata": {},
   "outputs": [],
   "source": [
    "# source_r_pruned = source_r[source_r['subs'].isin([\"neutrality\", \"happiness\", \"anger\", \"sadness\"])]"
   ]
  },
  {
   "cell_type": "code",
   "execution_count": null,
   "metadata": {},
   "outputs": [],
   "source": [
    "# len(source_r_pruned)"
   ]
  },
  {
   "cell_type": "code",
   "execution_count": null,
   "metadata": {},
   "outputs": [],
   "source": [
    "# Shuffle the dataframe and split in three parts. 80% train, 10% dev and 10% test.\n",
    "train, dev, test = np.split(source_r.sample(frac=1), [int(.8*len(source_r)), int(.9*len(source_r))])"
   ]
  },
  {
   "cell_type": "code",
   "execution_count": null,
   "metadata": {},
   "outputs": [],
   "source": [
    "def convert_to_fasttext(df, part=\"train\"):\n",
    "\n",
    "    with open(f'./{part}.txt', 'a') as fil:\n",
    "        for _, row in df.iterrows():\n",
    "            label = row[\"subs\"]\n",
    "            text = row[\"text\"]\n",
    "            fil.write(f\"__label__{label} {text}\" + os.linesep)\n",
    "    "
   ]
  },
  {
   "cell_type": "code",
   "execution_count": null,
   "metadata": {},
   "outputs": [],
   "source": [
    "convert_to_fasttext(train, \"train\")\n",
    "convert_to_fasttext(dev, \"dev\")\n",
    "convert_to_fasttext(test, \"test\")"
   ]
  },
  {
   "cell_type": "code",
   "execution_count": null,
   "metadata": {},
   "outputs": [],
   "source": [
    "from flair.data_fetcher import NLPTaskDataFetcher\n",
    "from pathlib import Path\n",
    "from flair.data import TaggedCorpus"
   ]
  },
  {
   "cell_type": "code",
   "execution_count": null,
   "metadata": {},
   "outputs": [],
   "source": [
    "# use your own data path\n",
    "data_folder = Path('./refined_subs/')\n",
    "\n",
    "# load corpus containing training, test and dev data\n",
    "corpus: TaggedCorpus = NLPTaskDataFetcher.load_classification_corpus(data_folder,\n",
    "                                                                     test_file='test.txt',\n",
    "                                                                     dev_file='dev.txt',\n",
    "                                                                     train_file='train.txt')"
   ]
  },
  {
   "cell_type": "code",
   "execution_count": null,
   "metadata": {},
   "outputs": [],
   "source": [
    "# print(corpus.obtain_statistics())"
   ]
  },
  {
   "cell_type": "code",
   "execution_count": null,
   "metadata": {},
   "outputs": [],
   "source": [
    "corpus.train[:5]"
   ]
  },
  {
   "cell_type": "code",
   "execution_count": null,
   "metadata": {},
   "outputs": [],
   "source": [
    "label_dict = corpus.make_label_dictionary()"
   ]
  },
  {
   "cell_type": "code",
   "execution_count": null,
   "metadata": {},
   "outputs": [],
   "source": [
    "from flair.embeddings import WordEmbeddings, FlairEmbeddings, StackedEmbeddings, BertEmbeddings, DocumentRNNEmbeddings, DocumentPoolEmbeddings\n",
    "from flair.models import TextClassifier\n",
    "from flair.trainers import ModelTrainer"
   ]
  },
  {
   "cell_type": "code",
   "execution_count": null,
   "metadata": {},
   "outputs": [],
   "source": [
    "# flair_forward_embedding = FlairEmbeddings('dutch-forward')\n",
    "# flair_backward_embedding = FlairEmbeddings('dutch-backward')\n",
    "bert_embeddings = BertEmbeddings('bert-base-multilingual-cased')\n",
    "embeddings = [bert_embeddings]"
   ]
  },
  {
   "cell_type": "code",
   "execution_count": null,
   "metadata": {},
   "outputs": [],
   "source": [
    "document_embeddings: DocumentPoolEmbeddings = DocumentPoolEmbeddings(embeddings)"
   ]
  },
  {
   "cell_type": "code",
   "execution_count": null,
   "metadata": {},
   "outputs": [],
   "source": [
    "# from hyperopt import hp\n",
    "# from flair.hyperparameter.param_selection import SearchSpace, Parameter\n",
    "\n",
    "# # define your search space\n",
    "# search_space = SearchSpace()\n",
    "# search_space.add(Parameter.EMBEDDINGS, hp.choice, options=[\n",
    "#     embeddings\n",
    "# ])\n",
    "\n",
    "# search_space.add(Parameter.)\n",
    "# search_space.add(Parameter.LEARNING_RATE, hp.choice, options=[0.01, 0.03, 0.07, 0.09, 0.1])\n",
    "# search_space.add(Parameter.MINI_BATCH_SIZE, hp.choice, options=[8, 16, 20])"
   ]
  },
  {
   "cell_type": "code",
   "execution_count": null,
   "metadata": {},
   "outputs": [],
   "source": [
    "# from flair.hyperparameter.param_selection import TextClassifierParamSelector, OptimizationValue\n",
    "\n",
    "# # create the parameter selector\n",
    "# param_selector = TextClassifierParamSelector(\n",
    "#     corpus, \n",
    "#     multi_label=False, \n",
    "#     base_path='optimization/results', \n",
    "#     document_embedding_type='mean',\n",
    "#     max_epochs=50, \n",
    "#     training_runs=3,\n",
    "#     optimization_value=OptimizationValue.DEV_SCORE\n",
    "# )\n",
    "\n",
    "# # start the optimization\n",
    "# param_selector.optimize(search_space, max_evals=100)"
   ]
  },
  {
   "cell_type": "code",
   "execution_count": null,
   "metadata": {},
   "outputs": [],
   "source": [
    "from flair.optim import AdamW, SGDW\n",
    "from torch.optim.adam import Adam\n",
    "\n",
    "# 5. create the text classifier\n",
    "classifier = TextClassifier(document_embeddings, label_dictionary=label_dict, multi_label=False)\n",
    "\n",
    "# 6. initialize the text classifier trainer\n",
    "trainer = ModelTrainer(classifier, corpus, optimizer=Adam)"
   ]
  },
  {
   "cell_type": "code",
   "execution_count": null,
   "metadata": {},
   "outputs": [],
   "source": [
    "# 7. start the training\n",
    "trainer.train('./train_results_pool_bert_200epochs_0.1lr_adam/',\n",
    "              learning_rate=0.1,\n",
    "              anneal_factor=0.7,\n",
    "              mini_batch_size=32,\n",
    "              max_epochs=200)"
   ]
  },
  {
   "cell_type": "code",
   "execution_count": null,
   "metadata": {},
   "outputs": [],
   "source": [
    "from flair.data import Sentence\n",
    "\n",
    "classifier = TextClassifier.load_from_file('./train_results_pool_bert_50epochs_0.01lr/best-model.pt')"
   ]
  },
  {
   "cell_type": "code",
   "execution_count": null,
   "metadata": {},
   "outputs": [],
   "source": [
    "# create example sentence\n",
    "sentence = Sentence('Dit is toch ongelooflijk, prachtig deze service.')\n",
    "\n",
    "# predict tags and print\n",
    "classifier.predict(sentence, multi_class_prob=True)\n",
    "\n",
    "print(sentence.labels)"
   ]
  },
  {
   "cell_type": "markdown",
   "metadata": {},
   "source": [
    "# Let's extract embeddings now and use them as features for a simple linear model."
   ]
  },
  {
   "cell_type": "code",
   "execution_count": null,
   "metadata": {},
   "outputs": [],
   "source": [
    "all_train_sentences = corpus.train\n",
    "\n",
    "for s in corpus.train:\n",
    "    document_embeddings.embed(s)"
   ]
  },
  {
   "cell_type": "code",
   "execution_count": null,
   "metadata": {},
   "outputs": [],
   "source": [
    "all_embeddings = [s.get_embedding().numpy() for sentence in all_train_sentences]"
   ]
  },
  {
   "cell_type": "code",
   "execution_count": null,
   "metadata": {},
   "outputs": [],
   "source": [
    "from sklearn.svm import LinearSVC"
   ]
  },
  {
   "cell_type": "code",
   "execution_count": null,
   "metadata": {},
   "outputs": [],
   "source": [
    "all_labels = [label_dict.get_idx_for_item(s.get_label_names()[0]) for s in corpus.train]"
   ]
  },
  {
   "cell_type": "code",
   "execution_count": null,
   "metadata": {},
   "outputs": [],
   "source": [
    "clf = LinearSVC(class_weight=\"balanced\", multi_class=\"ovr\", max_iter=10000)\n",
    "clf.fit(all_embeddings, all_labels) "
   ]
  },
  {
   "cell_type": "code",
   "execution_count": null,
   "metadata": {},
   "outputs": [],
   "source": [
    "test_sentence = corpus.test[69]\n",
    "test_sentence"
   ]
  },
  {
   "cell_type": "code",
   "execution_count": null,
   "metadata": {},
   "outputs": [],
   "source": [
    "document_embeddings.embed(test_sentence)\n",
    "\n",
    "clf.predict([test_sentence.get_embedding().numpy()])"
   ]
  },
  {
   "cell_type": "code",
   "execution_count": null,
   "metadata": {},
   "outputs": [],
   "source": [
    "for s in corpus.test:\n",
    "    document_embeddings.embed(s)\n",
    "    print(label_dict.get_item_for_index(clf.predict([s.get_embedding().numpy()])[0]))"
   ]
  },
  {
   "cell_type": "code",
   "execution_count": null,
   "metadata": {},
   "outputs": [],
   "source": [
    "# Ideeen Robin:\n",
    "# - BOW zou misschien beter voor emoties kunnen werken, want vaak wordt de emotie van een zin aan de hand van een paar steekwoorden bepaald. Dus meer een soort lexicon based sentimen analysis.\n",
    "# - Misschien is emotie voorspellen aan de hand van puur tekst uberhaupt geen lineair probleem: wij als mensen hebben al moeiete om dat te doen zonder video en audio context.\n",
    "# - Add non linear layer to address above?\n",
    "# - We kunnen softmax laag proberen toe te voegen aan het eind van de lineair model. (zit al in textclassifier)\n",
    "# - Het is ook een uitkomst als het blijkt dat puur tekst niet zeggend genoeg is om emotie te bepalen! Niks mis mee."
   ]
  },
  {
   "cell_type": "code",
   "execution_count": null,
   "metadata": {},
   "outputs": [],
   "source": [
    "# lr 0.0001"
   ]
  },
  {
   "cell_type": "code",
   "execution_count": null,
   "metadata": {},
   "outputs": [],
   "source": []
  }
 ],
 "metadata": {
  "kernelspec": {
   "display_name": "Python 3",
   "language": "python",
   "name": "python3"
  },
  "language_info": {
   "codemirror_mode": {
    "name": "ipython",
    "version": 3
   },
   "file_extension": ".py",
   "mimetype": "text/x-python",
   "name": "python",
   "nbconvert_exporter": "python",
   "pygments_lexer": "ipython3",
   "version": "3.7.3"
  }
 },
 "nbformat": 4,
 "nbformat_minor": 2
}
